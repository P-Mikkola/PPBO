{
 "cells": [
  {
   "cell_type": "markdown",
   "metadata": {},
   "source": [
    "# Projective Preferential Bayesian Optimization: Campor/Cu(111)"
   ]
  },
  {
   "cell_type": "markdown",
   "metadata": {},
   "source": [
    "<font size=\"4\">In this notebook the user's belief about an optimal configuration can be elicited by using the [Projective Preferential Bayesian Optimization](https://arxiv.org/abs/2002.03113) framework. The test case is the adsorption of a non-symmetric bulky molecule camphor on the flat surface of (111)-plane terminated Cu slab.</font> "
   ]
  },
  {
   "cell_type": "markdown",
   "metadata": {},
   "source": [
    "#### Import dependencies"
   ]
  },
  {
   "cell_type": "code",
   "execution_count": 1,
   "metadata": {},
   "outputs": [],
   "source": [
    "import warnings\n",
    "warnings.filterwarnings(action='ignore')"
   ]
  },
  {
   "cell_type": "code",
   "execution_count": 2,
   "metadata": {},
   "outputs": [],
   "source": [
    "%matplotlib widget"
   ]
  },
  {
   "cell_type": "code",
   "execution_count": 3,
   "metadata": {},
   "outputs": [
    {
     "data": {
      "application/vnd.jupyter.widget-view+json": {
       "model_id": "741876d72cd042719e50d126f7cbc9f2",
       "version_major": 2,
       "version_minor": 0
      },
      "text/plain": []
     },
     "metadata": {},
     "output_type": "display_data"
    },
    {
     "data": {
      "text/html": [
       "<style>div.output_scroll { height: 45em; }</style>"
      ],
      "text/plain": [
       "<IPython.core.display.HTML object>"
      ]
     },
     "metadata": {},
     "output_type": "display_data"
    }
   ],
   "source": [
    "import os\n",
    "import sys\n",
    "sys.path.insert(1, os.getcwd()+'/src')\n",
    "sys.path.insert(1, os.getcwd()+'/camphor_copper')\n",
    "import time\n",
    "from datetime import datetime\n",
    "import numpy as np\n",
    "from gui import GUI_session, generate_optimal_configuration\n",
    "from gp_model import GPModel\n",
    "from ppbo_settings import PPBO_settings\n",
    "from acquisition import next_query\n",
    "from jupyter_ui_poll import run_ui_poll_loop\n",
    "from ipywidgets import VBox\n",
    "from IPython.display import display, IFrame, HTML, clear_output\n",
    "from IPython.core.display import display\n",
    "display(HTML(\"<style>div.output_scroll { height: 45em; }</style>\")) #Make outputwindow larger"
   ]
  },
  {
   "cell_type": "markdown",
   "metadata": {},
   "source": [
    "#### Specify the aquisition strategy and the problem setting\n",
    "Acquisition startegies with unit projections ($\\boldsymbol{\\xi}$ is an unit vector):\n",
    "- PCD = preferential coordinate descent\n",
    "- EI-EXT = same as EI-FIXEDX except only unit projections are allowed\n",
    "- EI-EXT-FAST = same as EI-EXT except $d\\mathbf{x}$ integral omitted\n",
    "- EI-VARMAX = same as EI-EXT except $\\mathbf{x}$ is chosen to maximize GP variance\n",
    "- EI-VARMAX-FAST = same as EI-VARMAX except $d\\mathbf{x}$ integral omitted\n",
    "\n",
    "Acquisition startegies with non-unit projections:\n",
    "- EI = expected improvement by projective preferential query\n",
    "- EI-FIXEDX = same as EI except $\\mathbf{x}$ is fixed to $\\textrm{argmax}_{\\mathbf{x}}\\mu(\\mathbf{x})$ (xstar)\n",
    "- EXT = pure exploitation\n",
    "- EXR = pure exploration (variance maximization)\n",
    "- RAND = random "
   ]
  },
  {
   "cell_type": "code",
   "execution_count": 4,
   "metadata": {},
   "outputs": [],
   "source": [
    "acquisition_strategy = 'EI-VARMAX-FAST'"
   ]
  },
  {
   "cell_type": "code",
   "execution_count": 5,
   "metadata": {},
   "outputs": [],
   "source": [
    "PPBO_settings = PPBO_settings(D=6,bounds=((-0.5,0.5),(-0.5,0.5),(4,7),(-180,180),(-180,180),(-180,180)),\n",
    "                              kernel = 'camphor_copper_kernel',theta_initial=[0.09,0.2,0.35],\n",
    "                              xi_acquisition_function=acquisition_strategy,verbose=False)"
   ]
  },
  {
   "cell_type": "markdown",
   "metadata": {},
   "source": [
    "#### Querying settings"
   ]
  },
  {
   "cell_type": "code",
   "execution_count": 6,
   "metadata": {},
   "outputs": [],
   "source": [
    "NUMBER_OF_QUERIES = 3\n",
    "ADAPTIVE_INITIALIZATION = True  #At initilization: immediatly update the coordinate according to the user feedback"
   ]
  },
  {
   "cell_type": "markdown",
   "metadata": {},
   "source": [
    "#### Set initial queries"
   ]
  },
  {
   "cell_type": "code",
   "execution_count": 7,
   "metadata": {},
   "outputs": [
    {
     "name": "stdout",
     "output_type": "stream",
     "text": [
      "Number of initial queries is: 6\n"
     ]
    }
   ],
   "source": [
    "initial_queries_xi = np.array([list(np.eye(6)[i]) for i in range(6)]) #Initial xi:s correspond to unit vectors\n",
    "if ADAPTIVE_INITIALIZATION:\n",
    "    initial_queries_x = np.array([[-0.5, -0.5, 5.0, -84.4, 142.8, 2.7],]*6) #1st coordinate does not have relevance\n",
    "else:\n",
    "    initial_queries_x = np.array([[-0.5, -0.5, 5.0, -84.4, 142.8, 2.7],]*6)\n",
    "    #initial_queries_x = np.random.uniform([PPBO_settings.original_bounds[i][0] for i in range(6)], [PPBO_settings.original_bounds[i][1] for i in range(6)], size=(6,6))\n",
    "print(\"Number of initial queries is: \" + str(len(initial_queries_xi)))"
   ]
  },
  {
   "cell_type": "markdown",
   "metadata": {},
   "source": [
    "#### Hyperparameter optimization"
   ]
  },
  {
   "cell_type": "code",
   "execution_count": 8,
   "metadata": {},
   "outputs": [],
   "source": [
    "OPTIMIZE_HYPERPARAMETERS_AFTER_EACH_ITERATION = False\n",
    "OPTIMIZE_HYPERPARAMETERS_AFTER_QUERY_NUMBER = 999"
   ]
  },
  {
   "cell_type": "markdown",
   "metadata": {},
   "source": [
    "#### Initialize the user session"
   ]
  },
  {
   "cell_type": "code",
   "execution_count": 9,
   "metadata": {},
   "outputs": [],
   "source": [
    "should_log = False\n",
    "if should_log:\n",
    "    orig_stdout = sys.stdout\n",
    "    log_file = open('camphor_copper/user_session_log_'+str(datetime.now().strftime(\"%d-%m-%Y_%H-%M-%S\"))+'.txt', \"w\")\n",
    "    sys.stdout = log_file\n",
    "GUI_ses = GUI_session(PPBO_settings)\n",
    "results_mustar = []\n",
    "results_xstar = []"
   ]
  },
  {
   "cell_type": "markdown",
   "metadata": {},
   "source": [
    "## PPBO loop"
   ]
  },
  {
   "cell_type": "code",
   "execution_count": 10,
   "metadata": {},
   "outputs": [],
   "source": [
    "start = time.time() "
   ]
  },
  {
   "cell_type": "markdown",
   "metadata": {},
   "source": [
    "### Elicitation loop"
   ]
  },
  {
   "cell_type": "code",
   "execution_count": 11,
   "metadata": {
    "scrolled": true
   },
   "outputs": [
    {
     "name": "stdout",
     "output_type": "stream",
     "text": [
      "Elicitation done!\n"
     ]
    }
   ],
   "source": [
    "for i in range(len(initial_queries_xi)+NUMBER_OF_QUERIES):\n",
    "    if i < len(initial_queries_xi):\n",
    "        print(f'Initialization in progress... ({i+1}/{len(initial_queries_xi)})\\r', end=\"\")\n",
    "    else:\n",
    "        print(f'Elicitation in progress... ({i+1-len(initial_queries_xi)}/{NUMBER_OF_QUERIES})\\r', end=\"\")\n",
    "    ''' Projective preferential query '''\n",
    "    if i < len(initial_queries_xi):\n",
    "        xi = initial_queries_xi[i].copy()\n",
    "        if not i==0 and GUI_ses.user_feedback_preference is not None and ADAPTIVE_INITIALIZATION:\n",
    "            initial_queries_x[i:,:] = GUI_ses.user_feedback_preference\n",
    "        x = initial_queries_x[i].copy()\n",
    "        x[xi!=0] = 0\n",
    "    else:\n",
    "        xi,x = next_query(PPBO_settings,GP_model_preference,unscale=True)\n",
    "    GUI_ses.initialize_iteration(x,xi)\n",
    "    ''' Event loop '''\n",
    "    view,button,slider = GUI_ses.getMiniGUI()\n",
    "    app = VBox([view,slider,button])\n",
    "    def wait_user_input():\n",
    "        if not GUI_ses.user_feedback_was_given:\n",
    "            pass\n",
    "            return None\n",
    "        app.close()\n",
    "        GUI_ses.user_feedback_was_given = False\n",
    "        GUI_ses.save_results()\n",
    "        return 1       \n",
    "    display(app)\n",
    "    dt = run_ui_poll_loop(wait_user_input)\n",
    "    ''' Create GP model for first time '''\n",
    "    if i==0:\n",
    "        GP_model_preference = GPModel(PPBO_settings)\n",
    "    ''' Update GP model '''\n",
    "    GP_model_preference.update_feedback_processing_object(np.array(GUI_ses.results_preference))\n",
    "    GP_model_preference.update_data()\n",
    "    if i+1==OPTIMIZE_HYPERPARAMETERS_AFTER_QUERY_NUMBER:\n",
    "        GP_model_preference.update_model(optimize_theta=True)\n",
    "        print('Hyperparameters: ' + str(GP_model_preference.theta))\n",
    "    else:\n",
    "        GP_model_preference.update_model(optimize_theta=OPTIMIZE_HYPERPARAMETERS_AFTER_EACH_ITERATION)\n",
    "    results_mustar.append(GP_model_preference.mustar)\n",
    "    results_xstar.append(GP_model_preference.xstar)\n",
    "    clear_output(wait=True)\n",
    "print(\"Elicitation done!\")"
   ]
  },
  {
   "cell_type": "code",
   "execution_count": 12,
   "metadata": {
    "scrolled": true
   },
   "outputs": [
    {
     "name": "stdout",
     "output_type": "stream",
     "text": [
      "Total time: 166.21915817260742 seconds.\n"
     ]
    }
   ],
   "source": [
    "print(\"Total time: \" + str(time.time()-start) + \" seconds.\")\n",
    "xstar, mustar, xstars_local  = GP_model_preference.mu_star(mustar_finding_trials=15)\n",
    "xstar_unscaled = GP_model_preference.FP.unscale(xstar)\n",
    "xstars_local_unscaled = np.array([list(GP_model_preference.FP.unscale(x)) for x in xstars_local])"
   ]
  },
  {
   "cell_type": "markdown",
   "metadata": {},
   "source": [
    "## Save the results"
   ]
  },
  {
   "cell_type": "markdown",
   "metadata": {},
   "source": [
    "#### Generate html-file corresponding to the user's most preferred configuration"
   ]
  },
  {
   "cell_type": "code",
   "execution_count": 13,
   "metadata": {},
   "outputs": [
    {
     "name": "stdout",
     "output_type": "stream",
     "text": [
      "The optimal configuration: {'camp_dx': 0.009526317145850949, 'camp_dy': -0.047818856283598665, 'camp_origin_height': 4.815293825506361, 'alpha': -84.48555721869418, 'beta': 142.80006860848368, 'gamma': 2.7000764045261008}\n",
      "The optimal configuration: {'camp_dx': 0.3738928923759376, 'camp_dy': -0.07431332386590822, 'camp_origin_height': 5.497753100573211, 'alpha': 26.77416493306643, 'beta': 33.80665782113374, 'gamma': -172.63219600702865}\n",
      "The optimal configuration: {'camp_dx': 0.009526048532391806, 'camp_dy': -0.0478188982531782, 'camp_origin_height': 4.815174670738861, 'alpha': -84.48559183239482, 'beta': 142.79994211261192, 'gamma': 2.6999391058315894}\n",
      "The optimal configuration: {'camp_dx': 0.00952606394366362, 'camp_dy': -0.045250044235897846, 'camp_origin_height': 4.0, 'alpha': -174.82037887028417, 'beta': -16.739786487007535, 'gamma': -174.27985068224234}\n",
      "The optimal configuration: {'camp_dx': -0.2179016804848678, 'camp_dy': -0.5, 'camp_origin_height': 6.138726184752274, 'alpha': 179.99978140024905, 'beta': 140.67792278984086, 'gamma': 45.553203333989075}\n",
      "The optimal configuration: {'camp_dx': 0.009528032107540274, 'camp_dy': -0.045265214000029586, 'camp_origin_height': 4.0, 'alpha': -174.81814796286915, 'beta': -17.15230760137746, 'gamma': 2.767785758500139}\n"
     ]
    }
   ],
   "source": [
    "optimal_molecule_html = generate_optimal_configuration(xstar_unscaled)\n",
    "local_optima_htmls = []\n",
    "for x in xstars_local_unscaled:\n",
    "    time.sleep(1.1)\n",
    "    local_optima_htmls.append(generate_optimal_configuration(x))"
   ]
  },
  {
   "cell_type": "markdown",
   "metadata": {},
   "source": [
    "#### Save the user session results"
   ]
  },
  {
   "cell_type": "code",
   "execution_count": 14,
   "metadata": {},
   "outputs": [
    {
     "name": "stdout",
     "output_type": "stream",
     "text": [
      "Saving the user session results...\n"
     ]
    }
   ],
   "source": [
    "#Save results to csv-file\n",
    "print(\"Saving the user session results...\")\n",
    "user_session_results = GUI_ses.results_preference.copy()\n",
    "user_session_results_confidence = GUI_ses.results_confidence.copy()\n",
    "user_session_results['iter_mustar'] = results_mustar\n",
    "user_session_results['iter_xstar'] = results_xstar\n",
    "user_session_results.to_csv('camphor_copper/user_session_results_'+str(datetime.now().strftime(\"%d-%m-%Y_%H-%M-%S\"))+'.csv',index=False)\n",
    "user_session_results_confidence.to_csv('camphor_copper/user_session_results_confidence_'+str(datetime.now().strftime(\"%d-%m-%Y_%H-%M-%S\"))+'.csv',index=False)\n",
    "#Close the log-file\n",
    "if should_log:\n",
    "    sys.stdout = orig_stdout\n",
    "    log_file.close()"
   ]
  },
  {
   "cell_type": "markdown",
   "metadata": {},
   "source": [
    "## Analyze the results"
   ]
  },
  {
   "cell_type": "markdown",
   "metadata": {},
   "source": [
    "#### View the user's most preferred configuration\n",
    "<font color='red'>Press \"i\" to restore the default view</font>"
   ]
  },
  {
   "cell_type": "code",
   "execution_count": 15,
   "metadata": {},
   "outputs": [
    {
     "data": {
      "text/html": [
       "\n",
       "        <iframe\n",
       "            width=\"900\"\n",
       "            height=\"500\"\n",
       "            src=\"./camphor_copper/optimal_x_05-11-2020_09-21-13.html\"\n",
       "            frameborder=\"0\"\n",
       "            allowfullscreen\n",
       "        ></iframe>\n",
       "        "
      ],
      "text/plain": [
       "<IPython.lib.display.IFrame at 0x7fe75ec512d0>"
      ]
     },
     "execution_count": 15,
     "metadata": {},
     "output_type": "execute_result"
    }
   ],
   "source": [
    "IFrame(src=\"./camphor_copper/\"+str(optimal_molecule_html), width=900, height=500)"
   ]
  },
  {
   "cell_type": "code",
   "execution_count": 25,
   "metadata": {},
   "outputs": [
    {
     "data": {
      "text/html": [
       "\n",
       "        <iframe\n",
       "            width=\"900\"\n",
       "            height=\"500\"\n",
       "            src=\"./camphor_copper/optimal_x_05-11-2020_09-21-17.html\"\n",
       "            frameborder=\"0\"\n",
       "            allowfullscreen\n",
       "        ></iframe>\n",
       "        "
      ],
      "text/plain": [
       "<IPython.lib.display.IFrame at 0x7fe75c22c210>"
      ]
     },
     "execution_count": 25,
     "metadata": {},
     "output_type": "execute_result"
    }
   ],
   "source": [
    "#Check local optimas 0,...\n",
    "indx = 2\n",
    "IFrame(src=\"./camphor_copper/\"+str(local_optima_htmls[indx]), width=900, height=500)"
   ]
  },
  {
   "cell_type": "markdown",
   "metadata": {},
   "source": [
    "#### Slice plots of the utility function (predictive mean)"
   ]
  },
  {
   "cell_type": "code",
   "execution_count": 17,
   "metadata": {},
   "outputs": [],
   "source": [
    "import plot_results as pr"
   ]
  },
  {
   "cell_type": "code",
   "execution_count": 18,
   "metadata": {},
   "outputs": [
    {
     "data": {
      "application/vnd.jupyter.widget-view+json": {
       "model_id": "29661e7b00c143539d5d969265ff301f",
       "version_major": 2,
       "version_minor": 0
      },
      "text/plain": [
       "Canvas(toolbar=Toolbar(toolitems=[('Home', 'Reset original view', 'home', 'home'), ('Back', 'Back to previous …"
      ]
     },
     "metadata": {},
     "output_type": "display_data"
    }
   ],
   "source": [
    "pr.sliceplot_pred_mean('alpha','beta',GP_model_preference,xstar)"
   ]
  },
  {
   "cell_type": "code",
   "execution_count": 19,
   "metadata": {},
   "outputs": [
    {
     "data": {
      "application/vnd.jupyter.widget-view+json": {
       "model_id": "fe8dc02a2c244602b213d145d35d8c76",
       "version_major": 2,
       "version_minor": 0
      },
      "text/plain": [
       "Canvas(toolbar=Toolbar(toolitems=[('Home', 'Reset original view', 'home', 'home'), ('Back', 'Back to previous …"
      ]
     },
     "metadata": {},
     "output_type": "display_data"
    }
   ],
   "source": [
    "pr.sliceplot_pred_mean('x','y',GP_model_preference,xstar)"
   ]
  },
  {
   "cell_type": "code",
   "execution_count": 20,
   "metadata": {},
   "outputs": [
    {
     "data": {
      "application/vnd.jupyter.widget-view+json": {
       "model_id": "960ce1ceeeb64d039a800852b7ca8d9b",
       "version_major": 2,
       "version_minor": 0
      },
      "text/plain": [
       "Canvas(toolbar=Toolbar(toolitems=[('Home', 'Reset original view', 'home', 'home'), ('Back', 'Back to previous …"
      ]
     },
     "metadata": {},
     "output_type": "display_data"
    }
   ],
   "source": [
    "pr.sliceplot_pred_mean('z','gamma',GP_model_preference,xstar)"
   ]
  },
  {
   "cell_type": "code",
   "execution_count": 21,
   "metadata": {},
   "outputs": [
    {
     "name": "stdout",
     "output_type": "stream",
     "text": [
      "The most preferred configuration (unscaled): [0.009526317145850949, -0.047818856283598665, 4.815293825506361, -84.48555721869418, 142.80006860848368, 2.7000764045261008]\n"
     ]
    }
   ],
   "source": [
    "print(\"The most preferred configuration (unscaled): \" + str(list(GP_model_preference.FP.unscale(xstar))))"
   ]
  },
  {
   "cell_type": "code",
   "execution_count": 22,
   "metadata": {},
   "outputs": [
    {
     "name": "stdout",
     "output_type": "stream",
     "text": [
      "The most preferred configuration (scaled): [0.509526317145851, 0.45218114371640133, 0.2717646085021201, 0.26531789661473837, 0.896666857245788, 0.5075002122347947]\n"
     ]
    }
   ],
   "source": [
    "print(\"The most preferred configuration (scaled): \" + str(list(xstar)))"
   ]
  }
 ],
 "metadata": {
  "kernelspec": {
   "display_name": "Python 3",
   "language": "python",
   "name": "python3"
  },
  "language_info": {
   "codemirror_mode": {
    "name": "ipython",
    "version": 3
   },
   "file_extension": ".py",
   "mimetype": "text/x-python",
   "name": "python",
   "nbconvert_exporter": "python",
   "pygments_lexer": "ipython3",
   "version": "3.7.7"
  }
 },
 "nbformat": 4,
 "nbformat_minor": 2
}
